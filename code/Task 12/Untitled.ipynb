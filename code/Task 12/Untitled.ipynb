{
 "cells": [
  {
   "cell_type": "code",
   "execution_count": 1,
   "metadata": {},
   "outputs": [],
   "source": [
    "import re\n",
    "\n",
    "def isUpper(word):\n",
    "    if word[0] <= 'Z' and word[0] >= 'A':\n",
    "        return True\n",
    "    return False"
   ]
  },
  {
   "cell_type": "code",
   "execution_count": 2,
   "metadata": {},
   "outputs": [
    {
     "data": {
      "text/plain": [
       "'We’ll use an interface to represent each behavior for instance FlyBehavior and QuackBehavior and each implementation of a behavior will implement one of those interfaces. So this time it won’t be the Duck classes that will implement the flying and quacking interfaces. Instead we’ll make a set of classes whose entire reason for living is to represent a behavior for example squeaking and it’s the behavior class rather than the Duck class that will implement the behavior interface. This is in contrast to the way we were doing things before where a behavior either came from a concrete implementation in the superclass Duck or by providing a specialized implementation in the subclass itself. In both cases we were relying on an implementation. We were locked into using that specific implementation and there was no room for changing out the behavior other than writing more code. With our new design the Duck subclasses will use a behavior represented by an interface FlyBehavior and QuackBehavior so that the actual implementation of the behavior in other words the specific concrete behavior coded in the class that implements the FlyBehavior or QuackBehavior won’t be locked into the Duck subclass. Pham Hung\\n'"
      ]
     },
     "execution_count": 2,
     "metadata": {},
     "output_type": "execute_result"
    }
   ],
   "source": [
    "f = open('test.txt')\n",
    "paragraph = f.read()\n",
    "paragraph = re.sub(',', '', paragraph)\n",
    "paragraph"
   ]
  },
  {
   "cell_type": "code",
   "execution_count": 3,
   "metadata": {},
   "outputs": [],
   "source": [
    "words = paragraph.split(' ')"
   ]
  },
  {
   "cell_type": "code",
   "execution_count": 4,
   "metadata": {},
   "outputs": [],
   "source": [
    "start_sentence = True\n",
    "long_word = []"
   ]
  },
  {
   "cell_type": "code",
   "execution_count": 5,
   "metadata": {},
   "outputs": [],
   "source": [
    "dic = {}"
   ]
  },
  {
   "cell_type": "code",
   "execution_count": 6,
   "metadata": {},
   "outputs": [],
   "source": [
    "for word in words:\n",
    "    if not start_sentence:\n",
    "        word = word.strip()\n",
    "        if word.endswith('.') or word.endswith('!'):\n",
    "            start_sentence = True\n",
    "            word = word[:-1]\n",
    "            \n",
    "        if isUpper(word):\n",
    "            long_word.append(word)\n",
    "        else:\n",
    "            if len(long_word) > 1:\n",
    "                if ' '.join(long_word) not in dic:\n",
    "                    dic[' '.join(long_word)] = 1\n",
    "                else:\n",
    "                    dic[' '.join(long_word)] += 1\n",
    "            long_word = []\n",
    "        if word not in dic:\n",
    "            dic[word] = 1;\n",
    "        else:\n",
    "            dic[word] += 1;\n",
    "    start_sentence = False\n",
    "    long_word = []"
   ]
  },
  {
   "cell_type": "code",
   "execution_count": 7,
   "metadata": {},
   "outputs": [
    {
     "data": {
      "text/plain": [
       "{'Duck': 5,\n",
       " 'FlyBehavior': 3,\n",
       " 'Hung': 1,\n",
       " 'In': 1,\n",
       " 'Instead': 1,\n",
       " 'Pham': 1,\n",
       " 'QuackBehavior': 3,\n",
       " 'So': 1,\n",
       " 'This': 1,\n",
       " 'We': 1,\n",
       " 'With': 1,\n",
       " 'a': 7,\n",
       " 'actual': 1,\n",
       " 'an': 3,\n",
       " 'and': 6,\n",
       " 'be': 2,\n",
       " 'before': 1,\n",
       " 'behavior': 10,\n",
       " 'both': 1,\n",
       " 'by': 2,\n",
       " 'came': 1,\n",
       " 'cases': 1,\n",
       " 'changing': 1,\n",
       " 'class': 3,\n",
       " 'classes': 2,\n",
       " 'code': 1,\n",
       " 'coded': 1,\n",
       " 'concrete': 2,\n",
       " 'contrast': 1,\n",
       " 'design': 1,\n",
       " 'doing': 1,\n",
       " 'each': 2,\n",
       " 'either': 1,\n",
       " 'entire': 1,\n",
       " 'example': 1,\n",
       " 'flying': 1,\n",
       " 'for': 4,\n",
       " 'from': 1,\n",
       " 'implement': 3,\n",
       " 'implementation': 6,\n",
       " 'implements': 1,\n",
       " 'in': 5,\n",
       " 'instance': 1,\n",
       " 'interface': 3,\n",
       " 'interfaces': 2,\n",
       " 'into': 2,\n",
       " 'is': 2,\n",
       " 'it': 1,\n",
       " 'itself': 1,\n",
       " 'it’s': 1,\n",
       " 'living': 1,\n",
       " 'locked': 2,\n",
       " 'make': 1,\n",
       " 'more': 1,\n",
       " 'new': 1,\n",
       " 'no': 1,\n",
       " 'of': 4,\n",
       " 'on': 1,\n",
       " 'one': 1,\n",
       " 'or': 2,\n",
       " 'other': 2,\n",
       " 'our': 1,\n",
       " 'out': 1,\n",
       " 'providing': 1,\n",
       " 'quacking': 1,\n",
       " 'rather': 1,\n",
       " 'reason': 1,\n",
       " 'relying': 1,\n",
       " 'represent': 2,\n",
       " 'represented': 1,\n",
       " 'room': 1,\n",
       " 'set': 1,\n",
       " 'so': 1,\n",
       " 'specialized': 1,\n",
       " 'specific': 2,\n",
       " 'squeaking': 1,\n",
       " 'subclass': 2,\n",
       " 'subclasses': 1,\n",
       " 'superclass': 1,\n",
       " 'than': 2,\n",
       " 'that': 5,\n",
       " 'the': 16,\n",
       " 'there': 1,\n",
       " 'things': 1,\n",
       " 'this': 1,\n",
       " 'those': 1,\n",
       " 'time': 1,\n",
       " 'to': 3,\n",
       " 'use': 2,\n",
       " 'using': 1,\n",
       " 'was': 1,\n",
       " 'way': 1,\n",
       " 'we': 2,\n",
       " 'were': 3,\n",
       " 'we’ll': 1,\n",
       " 'where': 1,\n",
       " 'whose': 1,\n",
       " 'will': 4,\n",
       " 'won’t': 2,\n",
       " 'words': 1,\n",
       " 'writing': 1}"
      ]
     },
     "execution_count": 7,
     "metadata": {},
     "output_type": "execute_result"
    }
   ],
   "source": [
    "dic"
   ]
  },
  {
   "cell_type": "code",
   "execution_count": null,
   "metadata": {},
   "outputs": [],
   "source": []
  }
 ],
 "metadata": {
  "kernelspec": {
   "display_name": "Python 3",
   "language": "python",
   "name": "python3"
  },
  "language_info": {
   "codemirror_mode": {
    "name": "ipython",
    "version": 3
   },
   "file_extension": ".py",
   "mimetype": "text/x-python",
   "name": "python",
   "nbconvert_exporter": "python",
   "pygments_lexer": "ipython3",
   "version": "3.5.2"
  }
 },
 "nbformat": 4,
 "nbformat_minor": 2
}
