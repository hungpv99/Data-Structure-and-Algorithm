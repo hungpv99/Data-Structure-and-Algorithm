{
 "cells": [
  {
   "cell_type": "code",
   "execution_count": 9,
   "metadata": {},
   "outputs": [],
   "source": [
    "def editDistDP(str1, str2, m, n): \n",
    "    # Create a table to store results of subproblems \n",
    "    dp = [[0 for x in range(n+1)] for x in range(m+1)] \n",
    "  \n",
    "    # Fill d[][] in bottom up manner \n",
    "    for i in range(m+1): \n",
    "        for j in range(n+1): \n",
    "  \n",
    "            # If first string is empty, only option is to \n",
    "            # insert all characters of second string \n",
    "            if i == 0: \n",
    "                dp[i][j] = j    # Min. operations = j \n",
    "  \n",
    "            # If second string is empty, only option is to \n",
    "            # remove all characters of second string \n",
    "            elif j == 0: \n",
    "                dp[i][j] = i    # Min. operations = i \n",
    "  \n",
    "            # If last characters are same, ignore last char \n",
    "            # and recur for remaining string \n",
    "            elif str1[i-1] == str2[j-1]: \n",
    "                dp[i][j] = dp[i-1][j-1] \n",
    "  \n",
    "            # If last character are different, consider all \n",
    "            # possibilities and find minimum \n",
    "            else: \n",
    "                dp[i][j] = 1 + min(dp[i][j-1],        # Insert \n",
    "                                   dp[i-1][j],        # Remove \n",
    "                                   dp[i-1][j-1])    # Replace \n",
    "  \n",
    "    return dp[m][n] "
   ]
  },
  {
   "cell_type": "code",
   "execution_count": 17,
   "metadata": {},
   "outputs": [],
   "source": [
    "def check_ignore(str):\n",
    "    for ch in str:\n",
    "        if ord(ch)< 96 or ord(ch)>123:\n",
    "            return True\n",
    "    return False"
   ]
  },
  {
   "cell_type": "code",
   "execution_count": 18,
   "metadata": {},
   "outputs": [],
   "source": [
    "def check_eror_and_recommendtation(arr_str):\n",
    "    file_dict = open('dict_test.txt', 'r')\n",
    "    arr_str_dict = file_dict.read().split('\\n')\n",
    "    for word_check in arr_str: # Kiểm tra từng từ trong file input\n",
    "        \n",
    "        if word_check not in arr_str_dict and not check_ignore(word_check): # Kiểm tra xem từ đó có trong từ điển hay không\n",
    "            msg_out = 'Misspelled words: ' + word_check + '   suggestions for corrections: '\n",
    "            \n",
    "            distance = [[100,-1],[100,-1],[100,-1]]\n",
    "            \n",
    "            # Kiểm tra edit_distance\n",
    "            #lấy ra 3 từ có edit_distance nhỏ nhất và ghi vào file\n",
    "            for i in range(len(arr_str_dict)): \n",
    "                x = editDistDP(word_check, arr_str_dict[i], len(word_check), len(arr_str_dict[i]))\n",
    "                if x < distance[0][0]:\n",
    "                    distance[2][0]=distance[1][0]\n",
    "                    distance[2][1]=distance[1][1]\n",
    "                    \n",
    "                    distance[1][0]=distance[0][0]\n",
    "                    distance[1][1]=distance[0][1]\n",
    "                    \n",
    "                    distance[0][0]=x\n",
    "                    distance[0][1]=i\n",
    "                elif x < distance[1][0]:\n",
    "                    distance[2][0]=distance[1][0]\n",
    "                    distance[2][1]=distance[1][1]\n",
    "                    \n",
    "                    distance[1][0]=x\n",
    "                    distance[1][1]=i\n",
    "                elif x < distance[2][0]:\n",
    "                    distance[2][0]=x\n",
    "                    distance[2][1]=i\n",
    "            \n",
    "     \n",
    "            print(distance)\n",
    "            for i in range(3):\n",
    "                msg_out += arr_str_dict[distance[i][1]] + ' '\n",
    "            print(msg_out)"
   ]
  },
  {
   "cell_type": "code",
   "execution_count": 19,
   "metadata": {},
   "outputs": [
    {
     "name": "stdout",
     "output_type": "stream",
     "text": [
      "[[1, 58078], [1, 58079], [1, 58090]]\n",
      "Misspelled words: sunday   suggestions for corrections: sundae Sunday sundry \n",
      "[[1, 60635], [2, 7540], [2, 7541]]\n",
      "Misspelled words: tuday   suggestions for corrections: today Buddy buddy \n",
      "[[1, 7951], [1, 8008], [1, 8252]]\n",
      "Misspelled words: cao   suggestions for corrections: cab cad cam \n",
      "[[1, 5087], [1, 5223], [1, 5233]]\n",
      "Misspelled words: beft   suggestions for corrections: beat beet befit \n"
     ]
    }
   ],
   "source": [
    "file_input = open('test_input.txt', 'r')\n",
    "arr_str = file_input.read().split(' ')\n",
    "check_eror_and_recommendtation(arr_str)\n",
    "file_input.close()"
   ]
  },
  {
   "cell_type": "code",
   "execution_count": null,
   "metadata": {},
   "outputs": [],
   "source": []
  }
 ],
 "metadata": {
  "kernelspec": {
   "display_name": "Python 3",
   "language": "python",
   "name": "python3"
  },
  "language_info": {
   "codemirror_mode": {
    "name": "ipython",
    "version": 3
   },
   "file_extension": ".py",
   "mimetype": "text/x-python",
   "name": "python",
   "nbconvert_exporter": "python",
   "pygments_lexer": "ipython3",
   "version": "3.5.2"
  }
 },
 "nbformat": 4,
 "nbformat_minor": 2
}
