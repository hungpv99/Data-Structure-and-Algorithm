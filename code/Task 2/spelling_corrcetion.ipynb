{
 "cells": [
  {
   "cell_type": "code",
   "execution_count": 5,
   "metadata": {},
   "outputs": [],
   "source": [
    "def editDistDP(str1, str2, m, n): \n",
    "    # Create a table to store results of subproblems \n",
    "    dp = [[0 for x in range(n+1)] for x in range(m+1)] \n",
    "  \n",
    "    # Fill d[][] in bottom up manner \n",
    "    for i in range(m+1): \n",
    "        for j in range(n+1): \n",
    "  \n",
    "            if i == 0: \n",
    "                dp[i][j] = j    # Min. operations = j \n",
    "   \n",
    "            elif j == 0: \n",
    "                dp[i][j] = i    # Min. operations = i \n",
    "  \n",
    "            elif str1[i-1] == str2[j-1]: \n",
    "                dp[i][j] = dp[i-1][j-1] \n",
    "  \n",
    "            else: \n",
    "                dp[i][j] = 1 + min(dp[i][j-1],        # Insert \n",
    "                                   dp[i-1][j],        # Remove \n",
    "                                   dp[i-1][j-1])    # Replace \n",
    "  \n",
    "    return dp[m][n] "
   ]
  },
  {
   "cell_type": "code",
   "execution_count": 6,
   "metadata": {},
   "outputs": [],
   "source": [
    "def check_ignore(str):\n",
    "    for ch in str:\n",
    "        if ord(ch)< 96 or ord(ch)>123:\n",
    "            return True\n",
    "    return False"
   ]
  },
  {
   "cell_type": "code",
   "execution_count": 7,
   "metadata": {},
   "outputs": [],
   "source": [
    "def check_eror_and_recommendtation(arr_str):\n",
    "    file_dict = open('dict_test.txt', 'r')\n",
    "    arr_str_dict = file_dict.read().split('\\n')\n",
    "    for word_check in arr_str: # Kiểm tra từng từ trong file input\n",
    "        \n",
    "        if word_check not in arr_str_dict and not check_ignore(word_check): # Kiểm tra xem từ đó có trong từ điển hay không\n",
    "            msg_out = 'Misspelled words: ' + word_check + '   suggestions for corrections: '\n",
    "            \n",
    "            distance = [[100,-1],[100,-1],[100,-1]]\n",
    "            \n",
    "            # Kiểm tra edit_distance\n",
    "            #lấy ra 3 từ có edit_distance nhỏ nhất và ghi vào file\n",
    "            for i in range(len(arr_str_dict)): \n",
    "                x = editDistDP(word_check, arr_str_dict[i], len(word_check), len(arr_str_dict[i]))\n",
    "                if x < distance[0][0]:\n",
    "                    distance[2][0]=distance[1][0]\n",
    "                    distance[2][1]=distance[1][1]\n",
    "                    \n",
    "                    distance[1][0]=distance[0][0]\n",
    "                    distance[1][1]=distance[0][1]\n",
    "                    \n",
    "                    distance[0][0]=x\n",
    "                    distance[0][1]=i\n",
    "                elif x < distance[1][0]:\n",
    "                    distance[2][0]=distance[1][0]\n",
    "                    distance[2][1]=distance[1][1]\n",
    "                    \n",
    "                    distance[1][0]=x\n",
    "                    distance[1][1]=i\n",
    "                elif x < distance[2][0]:\n",
    "                    distance[2][0]=x\n",
    "                    distance[2][1]=i\n",
    "            \n",
    "     \n",
    "            print(distance)\n",
    "            for i in range(3):\n",
    "                msg_out += arr_str_dict[distance[i][1]] + ' '\n",
    "            print(msg_out)"
   ]
  },
  {
   "cell_type": "code",
   "execution_count": 8,
   "metadata": {},
   "outputs": [
    {
     "name": "stdout",
     "output_type": "stream",
     "text": [
      "[[1, 11669], [1, 11678], [2, 9576]]\n",
      "Misspelled words: completed   suggestions for corrections: complected complete chapleted \n",
      "[[1, 43285], [3, 3520], [3, 36718]]\n",
      "Misspelled words: passengers   suggestions for corrections: passenger assenter messenger \n",
      "[[1, 65756], [1, 65773], [2, 1514]]\n",
      "Misspelled words: walked   suggestions for corrections: walker walled alkyd \n"
     ]
    }
   ],
   "source": [
    "file_input = open('test_input.txt', 'r')\n",
    "arr_str = file_input.read().split(' ')\n",
    "check_eror_and_recommendtation(arr_str)\n",
    "file_input.close()"
   ]
  },
  {
   "cell_type": "code",
   "execution_count": null,
   "metadata": {},
   "outputs": [],
   "source": []
  }
 ],
 "metadata": {
  "kernelspec": {
   "display_name": "Python 3",
   "language": "python",
   "name": "python3"
  },
  "language_info": {
   "codemirror_mode": {
    "name": "ipython",
    "version": 3
   },
   "file_extension": ".py",
   "mimetype": "text/x-python",
   "name": "python",
   "nbconvert_exporter": "python",
   "pygments_lexer": "ipython3",
   "version": "3.5.2"
  }
 },
 "nbformat": 4,
 "nbformat_minor": 2
}
