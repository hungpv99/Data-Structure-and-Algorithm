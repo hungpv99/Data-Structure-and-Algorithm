{
 "cells": [
  {
   "cell_type": "code",
   "execution_count": 5,
   "metadata": {},
   "outputs": [],
   "source": [
    "from collections import namedtuple\n",
    "from operator import itemgetter\n",
    "from pprint import pformat\n",
    "import matplotlib.pyplot as plt\n",
    " \n",
    "def kdtree(point_list, depth=0):\n",
    "    \n",
    "    try:\n",
    "        k = len(point_list[0])\n",
    "    except IndexError:\n",
    "        return None\n",
    " \n",
    "    axis = depth % k\n",
    "    \n",
    "    point_list.sort(key=itemgetter(axis))\n",
    "    \n",
    "    median = len(point_list) // 2         \n",
    " \n",
    "    return {\n",
    "        'location':point_list[median],\n",
    "        'left_child':kdtree(point_list[:median], depth + 1),\n",
    "        'right_child':kdtree(point_list[median + 1:], depth + 1)\n",
    "    }"
   ]
  },
  {
   "cell_type": "code",
   "execution_count": 6,
   "metadata": {},
   "outputs": [],
   "source": [
    "import math\n",
    "def distance(point1, point2):\n",
    "    x1, y1 = point1\n",
    "    x2, y2 = point2\n",
    "    \n",
    "    dx = x1 - x2\n",
    "    dy = y1 - y2\n",
    "    \n",
    "    return math.sqrt(dx*dx + dy*dy)\n",
    "\n",
    "def find_closest_point(tree, point, depth=0, best=None):\n",
    "    if tree is None:\n",
    "        return best\n",
    "    axis = depth % 2\n",
    "    \n",
    "    next_best = None\n",
    "    next_branch = None\n",
    "    \n",
    "    if best is None or distance(point, best) > distance(point, tree['location']):\n",
    "        next_best = tree['location']\n",
    "    else:\n",
    "        next_best = best\n",
    "        \n",
    "    if point[axis] < tree['location'][axis]:\n",
    "        next_branch = tree['left_child']\n",
    "    else:\n",
    "        next_branch = tree['right_child']\n",
    "        \n",
    "    return find_closest_point(next_branch, point, depth+1, next_best)"
   ]
  },
  {
   "cell_type": "code",
   "execution_count": 13,
   "metadata": {},
   "outputs": [
    {
     "data": {
      "image/png": "[encoded data removed]",
      "text/plain": [
       "<Figure size 432x288 with 1 Axes>"
      ]
     },
     "metadata": {
      "needs_background": "light"
     },
     "output_type": "display_data"
    }
   ],
   "source": [
    "from random import randint\n",
    "point_list = []\n",
    "for i in range(100):\n",
    "    x = randint(1, 10000)\n",
    "    y = randint(1, 10000)\n",
    "    point_list.append((x,y))\n",
    "\n",
    "point_target = (randint(1, 10000),randint(1, 10000))\n",
    "\n",
    "tree = kdtree(point_list)\n",
    "best1 = find_closest_point(tree, point_target)\n",
    "point_list.remove(best1)\n",
    "\n",
    "tree = kdtree(point_list)\n",
    "best2 = find_closest_point(tree, point_target)\n",
    "point_list.remove(best2)\n",
    "\n",
    "tree = kdtree(point_list)\n",
    "best3 = find_closest_point(tree, point_target)\n",
    "point_list.remove(best3)\n",
    "\n",
    "tree = kdtree(point_list)\n",
    "best4 = find_closest_point(tree, point_target)\n",
    "\n",
    "\n",
    "xs = [x[0] for x in point_list]\n",
    "ys = [x[1] for x in point_list]\n",
    "plt.scatter(xs, ys, color='black')\n",
    "plt.scatter(point_target[0], point_target[1], color='yellow')\n",
    "plt.scatter(best1[0],best1[1],color='red')\n",
    "plt.scatter(best2[0],best2[1],color='red')\n",
    "plt.scatter(best3[0],best3[1],color='red')\n",
    "plt.scatter(best4[0],best4[1],color='red')\n",
    "plt.show()"
   ]
  },
  {
   "cell_type": "code",
   "execution_count": null,
   "metadata": {},
   "outputs": [],
   "source": []
  }
 ],
 "metadata": {
  "kernelspec": {
   "display_name": "Python 3",
   "language": "python",
   "name": "python3"
  },
  "language_info": {
   "codemirror_mode": {
    "name": "ipython",
    "version": 3
   },
   "file_extension": ".py",
   "mimetype": "text/x-python",
   "name": "python",
   "nbconvert_exporter": "python",
   "pygments_lexer": "ipython3",
   "version": "3.5.2"
  }
 },
 "nbformat": 4,
 "nbformat_minor": 2
}
