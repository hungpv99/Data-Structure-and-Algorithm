{
 "cells": [
  {
   "cell_type": "code",
   "execution_count": 1,
   "metadata": {},
   "outputs": [],
   "source": [
    "import random\n",
    "import sys"
   ]
  },
  {
   "cell_type": "code",
   "execution_count": 2,
   "metadata": {},
   "outputs": [],
   "source": [
    "SIZE = (15, 15)\n",
    "# size of the labyrinth (x, y)"
   ]
  },
  {
   "cell_type": "code",
   "execution_count": 3,
   "metadata": {},
   "outputs": [],
   "source": [
    "N, S, E, W = 1, 2, 4, 8\n",
    "# directions translated into bitnums to store information on all cleared walls in one variable per cell\n",
    "\n",
    "GO_DIR = {N: (0, -1), S: (0, 1), E: (1, 0), W: (-1, 0)}\n",
    "# dictionary with directions translated to digging moves\n",
    "\n",
    "REVERSE = {E: W, W: E, N: S, S: N}\n",
    "# when a passage is dug from a cell, the other cell obtains the reverse passage, too\n"
   ]
  },
  {
   "cell_type": "code",
   "execution_count": 4,
   "metadata": {},
   "outputs": [],
   "source": [
    "lab = list(list(0 for i in range(SIZE[0])) for j in range(SIZE[1]))\n",
    "# labyrinth is prepared"
   ]
  },
  {
   "cell_type": "code",
   "execution_count": 5,
   "metadata": {},
   "outputs": [],
   "source": [
    "def dig(x, y):\n",
    "    # digs passage from a cell (x, y) in an unvisited cell\n",
    "    dirs = [N, E, W, S]\n",
    "    random.shuffle(dirs)\n",
    "    # shuffles directions each time for more randomness\n",
    "    for dir in dirs:\n",
    "        new_x = x + GO_DIR[dir][0]\n",
    "        new_y = y + GO_DIR[dir][1]\n",
    "        if (new_y in range(SIZE[1])) and (new_x in range(SIZE[0])) and (lab[new_y][new_x] == 0):\n",
    "            # checks if the new cell is not visited\n",
    "            lab[y][x] |= dir\n",
    "            lab[new_y][new_x] |= REVERSE[dir]\n",
    "            # if so, apply info on passages to both cells\n",
    "            dig(new_x, new_y)\n",
    "            # repeat recursively\n",
    "def create_more_way():\n",
    "    for i in range(5):\n",
    "        x = random.randint(0,SIZE[0]-1)\n",
    "        y = random.randint(0,SIZE[1]-1)\n",
    "        if lab[x][y] & N == 0:\n",
    "            lab[y][x] |= N\n",
    "            new_x = x + GO_DIR[N][0]\n",
    "            new_y = y + GO_DIR[N][1]\n",
    "            lab[new_y][new_x] |= REVERSE[N]\n",
    "        elif lab[x][y] & S == 0:\n",
    "            lab[y][x] |= S\n",
    "            new_x = x + GO_DIR[S][0]\n",
    "            new_y = y + GO_DIR[S][1]\n",
    "            lab[new_y][new_x] |= REVERSE[S]\n",
    "        elif lab[x][y] & E == 0:\n",
    "            lab[y][x] |= E\n",
    "            new_x = x + GO_DIR[E][0]\n",
    "            new_y = y + GO_DIR[E][1]\n",
    "            lab[new_y][new_x] |= REVERSE[E]\n",
    "        elif lab[x][y] & W == 0:\n",
    "            lab[y][x] |= W\n",
    "            new_x = x + GO_DIR[W][0]\n",
    "            new_y = y + GO_DIR[W][1]\n",
    "            lab[new_y][new_x] |= REVERSE[W]\n",
    "        "
   ]
  },
  {
   "cell_type": "code",
   "execution_count": 6,
   "metadata": {},
   "outputs": [],
   "source": [
    "def check():\n",
    "    # displays the cells' values for check-up\n",
    "    for i in range(SIZE[1]):\n",
    "        for j in range(SIZE[0]):\n",
    "            print(\" \"*(1-(lab[i][j]//10)) + str(lab[i][j]), end='|')\n",
    "        print ('')"
   ]
  },
  {
   "cell_type": "code",
   "execution_count": 7,
   "metadata": {},
   "outputs": [],
   "source": [
    "def draw():\n",
    "    # prints the seed (for reference) and the lab size\n",
    "    print(\"_\" * (SIZE[0] * 2))\n",
    "    for j in range(SIZE[1]):\n",
    "        x = random.randint(0,9)\n",
    "        if j!=0:\n",
    "            print(\"|\", end='')\n",
    "        else:\n",
    "            print (\"_\", end='')\n",
    "        for i in range(SIZE[0]):\n",
    "            if (lab[j][i] & S != 0):\n",
    "                print(\" \", end='')\n",
    "            else:\n",
    "                print(\"_\", end='')\n",
    "            if (lab[j][i] & E != 0):\n",
    "                if ((lab[j][i] | lab[j][i+1]) & S != 0):\n",
    "                    print(\" \", end='')\n",
    "                else:\n",
    "                    print(\"_\", end='')\n",
    "            elif (j==SIZE[1]-1) & (i==SIZE[0]-1):\n",
    "                print(\"_\", end='')\n",
    "            else:\n",
    "                print(\"|\", end='')\n",
    "        print(\"\")"
   ]
  },
  {
   "cell_type": "code",
   "execution_count": 8,
   "metadata": {},
   "outputs": [
    {
     "name": "stdout",
     "output_type": "stream",
     "text": [
      "______________________________\n",
      "_  _  |  _  |  _________    | |\n",
      "|   |___|___|___  |  ___| |_  |\n",
      "|_|_   ___   _|  _| |  ___|  _|\n",
      "|   |  ___|_____  | | |_  |_  |\n",
      "| |_______  |   |___|_  |  ___|\n",
      "| | |  _  |___| |  _  | | |_  |\n",
      "| | |_  |_________|  _| |___  |\n",
      "| |    _|  _____| |_____|   | |\n",
      "|   |_  | |___  |  _   ___|___|\n",
      "| | |_  | |  _  | |_   ___    |\n",
      "|_|_  |_| | |___|_  | |   | | |\n",
      "|  _  |  _|  _______|___| | | |\n",
      "| | | | |___  |_   _  |  _| |_|\n",
      "| |___|_  | |_____| | |___|_  |\n",
      "|_________|____________________\n",
      " 6|12|10| 6|12|10| 6|12|12|12|12|12|14|10| 2|\n",
      " 7|10| 5| 9| 4| 9| 5|12|10| 6|12| 8| 3| 5|11|\n",
      " 1| 5|14|12|12|14| 8| 6| 9| 3| 6|12| 9| 6| 9|\n",
      " 6|10| 7|12| 8| 5|12|13|10| 3| 3| 4|10| 5|10|\n",
      " 3| 5|13|12|12|10| 6|10| 5| 9| 5|10| 7|12| 9|\n",
      " 3| 2| 6|12|10| 5| 9| 3| 6|12|10| 3| 3| 4|10|\n",
      " 3| 3| 5|10| 5|12|12|13| 9| 6| 9| 3| 5|12|11|\n",
      " 3| 7|14| 9| 6|12|12| 8| 2| 5|12| 9| 6|10| 3|\n",
      " 7|11| 5|10| 3| 4|12|10| 7|12|14|12| 9| 5| 9|\n",
      " 3| 3| 4|11| 3| 6|12|11| 3| 4|15|12|12|14|10|\n",
      " 1| 5|10| 1| 3| 3| 4| 9| 5|10| 3| 6|10| 3| 3|\n",
      " 6|12|11| 6| 9| 7|12|12|12| 9| 5| 9| 3| 3| 3|\n",
      " 3| 2| 3| 3| 4|13|10| 4|14|12|10| 6| 9| 3| 1|\n",
      " 3| 5| 9| 5|10| 2| 5|12| 9| 2| 3| 5| 8| 5|10|\n",
      " 5|12|12|12| 9| 5|12|12|12|13|13|12|12|12| 9|\n"
     ]
    }
   ],
   "source": [
    "# Let's start!\n",
    "dig(SIZE[0]//2, SIZE[1]//2)\n",
    "create_more_way()\n",
    "draw()\n",
    "check()"
   ]
  },
  {
   "cell_type": "code",
   "execution_count": 9,
   "metadata": {},
   "outputs": [
    {
     "name": "stdout",
     "output_type": "stream",
     "text": [
      " 8|-4| 6|-3| 0|-4|-3| 2|-7| 2|-4|-7|-8| 2| 2|\n",
      "-9| 3|-6| 3|-1| 0|-6| 9|-5|-8|-5| 6| 0| 6| 2|\n",
      " 9| 8| 4|-8| 7|-3|-1|-1|-6| 7| 3|-1| 1| 3| 4|\n",
      " 9| 6|-7| 0| 5|-7|-8| 5| 5|-1|-8|-1|-8| 6| 8|\n",
      " 7| 7| 3|-1|-2| 2|-8|-5|-6|-9|-2| 2|-7|-8| 3|\n",
      " 8| 4|-5| 7|-1| 6| 1|-2|-9| 3|-1|-8| 1|-5| 3|\n",
      "-6|-5| 9|-3|-3| 4|-6| 1|-4|-7|-1| 2|-4|-8| 9|\n",
      "-2|-2| 6| 0|-2|-7|-9|-5| 7|-4| 2| 0|-7|-3|-5|\n",
      " 4| 6| 7| 7|-4| 0| 7| 3| 2|-7| 2| 8| 1|-2| 4|\n",
      "-9| 6| 1| 7| 9| 1| 1|-6| 7|-9| 1| 8| 9|-9|-6|\n",
      "-2|-4| 5| 5| 1|-1| 6| 4|-8| 9|-4|-5| 1| 7| 6|\n",
      "-9|-3| 0| 1|-5|-1|-1|-3|-9| 8|-7|-3| 1|-3|-7|\n",
      " 1|-2|-6| 2| 1| 8| 3| 0| 5|-2| 3|-9| 9| 8| 2|\n",
      " 5| 6|-4| 3| 9|-1| 2|-4| 9| 8|-7|-9|-2| 9| 3|\n",
      " 5| 1|-2| 2|-3|-2| 6|-3| 7|-2| 8| 7| 0| 6|-8|\n"
     ]
    }
   ],
   "source": [
    "arr_scores = list(list(0 for i in range(SIZE[0])) for j in range(SIZE[1]))\n",
    "def generate_random_scores():\n",
    "    for i in range(SIZE[0]):\n",
    "        for j in range(SIZE[1]):\n",
    "            arr_scores[i][j] = random.randint(-9, 9)\n",
    "    \n",
    "    #print score of square\n",
    "    for i in range(SIZE[1]):\n",
    "        for j in range(SIZE[0]):\n",
    "            if arr_scores[i][j] > -1:\n",
    "                print(\" \" + str(arr_scores[i][j]), end='|')\n",
    "            else:\n",
    "                print(str(arr_scores[i][j]), end='|')\n",
    "        print ('')\n",
    "generate_random_scores()"
   ]
  },
  {
   "cell_type": "code",
   "execution_count": 10,
   "metadata": {},
   "outputs": [],
   "source": [
    "dirs = [N,S,E,W]\n",
    "def DFS(x,y):\n",
    "    for dir in dirs:\n",
    "        if lib[y,x] & dir != 0:\n",
    "            new_x = x + GO_DIR[dir][0]\n",
    "            new_y = y + GO_DIR[dir][1]\n",
    "            \n",
    "            if (new_y in range(SIZE[1])) and (new_x in range(SIZE[0])) and (trace[new_y*SIZE[0]+new_x] == -1):\n",
    "                trace[new_y*SIZE[0]+new_x] = y*SIZE[0] + x\n",
    "                DFS(new_x, new_y)\n",
    "                "
   ]
  },
  {
   "cell_type": "code",
   "execution_count": 17,
   "metadata": {},
   "outputs": [],
   "source": [
    "total_score=0;\n",
    "max_score = arr_scores[0][0]\n",
    "total_trace = []\n",
    "# Function to print a BFS of graph \n",
    "def BFS(x,y): \n",
    "    global total_trace\n",
    "    trace = [-1 for i in range(SIZE[0]*SIZE[1])]\n",
    "    queue = [] \n",
    "    queue.append((x,y)) \n",
    "    trace[0]=-2\n",
    "\n",
    "    while queue:  \n",
    "        x,y = queue.pop(0) \n",
    "        \n",
    "        if x == SIZE[0]-1 and y == SIZE[1]-1:\n",
    "            way = []\n",
    "            x_ = trace[-1] % SIZE[1]\n",
    "            y_ = trace[-1] // SIZE[1]\n",
    "            \n",
    "            print((x_,y_))\n",
    "            while x_ != 0 or y_ != 0:\n",
    "                way.append((x_,y_))\n",
    "                index = y_ * SIZE[0] + x_\n",
    "                x_ = trace[index] % SIZE[1]\n",
    "                y_ = trace[index] // SIZE[1]\n",
    "                print((x_,y_))\n",
    "            total_trace.append(way)\n",
    "            trace[-1]=-1\n",
    "            break\n",
    "        \n",
    "        dirs = [E, S, W, N]\n",
    "        \n",
    "        for dir in dirs:\n",
    "            \n",
    "            if lab[y][x] & dir != 0:\n",
    "                \n",
    "                new_x = x + GO_DIR[dir][0]\n",
    "                new_y = y + GO_DIR[dir][1]\n",
    "                \n",
    "                if (new_y in range(SIZE[1])) and (new_x in range(SIZE[0])) and (trace[new_y*SIZE[0]+new_x] == -1):\n",
    "                    \n",
    "                    trace[new_y*SIZE[0]+new_x] = y*SIZE[0] + x\n",
    "                    queue.append((new_x, new_y))\n",
    "BFS(0,0)\n",
    "print(total_trace)"
   ]
  },
  {
   "cell_type": "code",
   "execution_count": 18,
   "metadata": {},
   "outputs": [
    {
     "name": "stdout",
     "output_type": "stream",
     "text": [
      "[]\n",
      "______________________________\n",
      "_"
     ]
    },
    {
     "ename": "IndexError",
     "evalue": "list index out of range",
     "output_type": "error",
     "traceback": [
      "\u001b[0;31m---------------------------------------------------------------------------\u001b[0m",
      "\u001b[0;31mIndexError\u001b[0m                                Traceback (most recent call last)",
      "\u001b[0;32m<ipython-input-18-9ef4f50897e7>\u001b[0m in \u001b[0;36m<module>\u001b[0;34m\u001b[0m\n\u001b[1;32m     14\u001b[0m                 \u001b[0mprint\u001b[0m\u001b[0;34m(\u001b[0m\u001b[0;34m\" \"\u001b[0m\u001b[0;34m,\u001b[0m \u001b[0mend\u001b[0m\u001b[0;34m=\u001b[0m\u001b[0;34m''\u001b[0m\u001b[0;34m)\u001b[0m\u001b[0;34m\u001b[0m\u001b[0m\n\u001b[1;32m     15\u001b[0m         \u001b[0;32melse\u001b[0m\u001b[0;34m:\u001b[0m\u001b[0;34m\u001b[0m\u001b[0m\n\u001b[0;32m---> 16\u001b[0;31m             \u001b[0;32mif\u001b[0m \u001b[0;34m(\u001b[0m\u001b[0mi\u001b[0m\u001b[0;34m,\u001b[0m\u001b[0mj\u001b[0m\u001b[0;34m)\u001b[0m \u001b[0;32min\u001b[0m \u001b[0mtotal_trace\u001b[0m\u001b[0;34m[\u001b[0m\u001b[0;36m0\u001b[0m\u001b[0;34m]\u001b[0m\u001b[0;34m:\u001b[0m\u001b[0;34m\u001b[0m\u001b[0m\n\u001b[0m\u001b[1;32m     17\u001b[0m                 \u001b[0mprint\u001b[0m\u001b[0;34m(\u001b[0m\u001b[0;34m\"*\"\u001b[0m\u001b[0;34m,\u001b[0m \u001b[0mend\u001b[0m\u001b[0;34m=\u001b[0m\u001b[0;34m''\u001b[0m\u001b[0;34m)\u001b[0m\u001b[0;34m\u001b[0m\u001b[0m\n\u001b[1;32m     18\u001b[0m             \u001b[0;32melse\u001b[0m\u001b[0;34m:\u001b[0m\u001b[0;34m\u001b[0m\u001b[0m\n",
      "\u001b[0;31mIndexError\u001b[0m: list index out of range"
     ]
    }
   ],
   "source": [
    "print(total_trace)\n",
    "print(\"_\" * (SIZE[0] * 2))\n",
    "for j in range(SIZE[1]):\n",
    "    x = random.randint(0,9)\n",
    "    if j!=0:\n",
    "        print(\"|\", end='')\n",
    "    else:\n",
    "        print (\"_\", end='')\n",
    "    for i in range(SIZE[0]):\n",
    "        if (lab[j][i] & S != 0):\n",
    "            if (i,j) in total_trace[0]:\n",
    "                print(\"*\", end='')\n",
    "            else:\n",
    "                print(\" \", end='')\n",
    "        else:\n",
    "            if (i,j) in total_trace[0]:\n",
    "                print(\"*\", end='')\n",
    "            else:\n",
    "                print(\"_\", end='')\n",
    "        if (lab[j][i] & E != 0):\n",
    "            if ((lab[j][i] | lab[j][i+1]) & S != 0):\n",
    "                if (i,j) in total_trace[0]:\n",
    "                    print(\"*\", end='')\n",
    "                else:\n",
    "                    print(\" \", end='')\n",
    "            else:\n",
    "                if (i,j) in total_trace[0]:\n",
    "                    print(\" \", end='')\n",
    "                else:\n",
    "                    print(\"_\", end='')\n",
    "        elif (j==SIZE[1]-1) & (i==SIZE[0]-1):\n",
    "            print(\" \", end='')\n",
    "        else:\n",
    "            print(\"|\", end='')\n",
    "    print(\"\")"
   ]
  },
  {
   "cell_type": "code",
   "execution_count": null,
   "metadata": {},
   "outputs": [],
   "source": []
  }
 ],
 "metadata": {
  "kernelspec": {
   "display_name": "Python 3",
   "language": "python",
   "name": "python3"
  },
  "language_info": {
   "codemirror_mode": {
    "name": "ipython",
    "version": 3
   },
   "file_extension": ".py",
   "mimetype": "text/x-python",
   "name": "python",
   "nbconvert_exporter": "python",
   "pygments_lexer": "ipython3",
   "version": "3.5.2"
  }
 },
 "nbformat": 4,
 "nbformat_minor": 2
}
