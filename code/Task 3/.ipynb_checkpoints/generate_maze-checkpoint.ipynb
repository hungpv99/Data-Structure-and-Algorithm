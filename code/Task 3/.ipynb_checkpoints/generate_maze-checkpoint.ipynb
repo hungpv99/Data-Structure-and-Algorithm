{
 "cells": [
  {
   "cell_type": "code",
   "execution_count": 1,
   "metadata": {},
   "outputs": [],
   "source": [
    "import random\n",
    "import sys"
   ]
  },
  {
   "cell_type": "code",
   "execution_count": 2,
   "metadata": {},
   "outputs": [],
   "source": [
    "SIZE = (15, 15)\n",
    "# size of the labyrinth (x, y)"
   ]
  },
  {
   "cell_type": "code",
   "execution_count": 3,
   "metadata": {},
   "outputs": [],
   "source": [
    "N, S, E, W = 1, 2, 4, 8\n",
    "# directions translated into bitnums to store information on all cleared walls in one variable per cell\n",
    "\n",
    "GO_DIR = {N: (0, -1), S: (0, 1), E: (1, 0), W: (-1, 0)}\n",
    "# dictionary with directions translated to digging moves\n",
    "\n",
    "REVERSE = {E: W, W: E, N: S, S: N}\n",
    "# when a passage is dug from a cell, the other cell obtains the reverse passage, too\n"
   ]
  },
  {
   "cell_type": "code",
   "execution_count": 4,
   "metadata": {},
   "outputs": [],
   "source": [
    "lab = list(list(0 for i in range(SIZE[0])) for j in range(SIZE[1]))\n",
    "# labyrinth is prepared"
   ]
  },
  {
   "cell_type": "code",
   "execution_count": 5,
   "metadata": {},
   "outputs": [],
   "source": [
    "def dig(x, y):\n",
    "    # digs passage from a cell (x, y) in an unvisited cell\n",
    "    dirs = [N, E, W, S]\n",
    "    random.shuffle(dirs)\n",
    "    # shuffles directions each time for more randomness\n",
    "    for dir in dirs:\n",
    "        new_x = x + GO_DIR[dir][0]\n",
    "        new_y = y + GO_DIR[dir][1]\n",
    "        if (new_y in range(SIZE[1])) and (new_x in range(SIZE[0])) and (lab[new_y][new_x] == 0):\n",
    "            # checks if the new cell is not visited\n",
    "            lab[y][x] |= dir\n",
    "            lab[new_y][new_x] |= REVERSE[dir]\n",
    "            # if so, apply info on passages to both cells\n",
    "            dig(new_x, new_y)\n",
    "            # repeat recursively\n",
    "def create_more_way():\n",
    "    for i in range(5):\n",
    "        x = random.randint(0,SIZE[0]-1)\n",
    "        y = random.randint(0,SIZE[1]-1)\n",
    "        if lab[x][y] & N == 0:\n",
    "            lab[y][x] |= N\n",
    "            new_x = x + GO_DIR[N][0]\n",
    "            new_y = y + GO_DIR[N][1]\n",
    "            lab[new_y][new_x] |= REVERSE[N]\n",
    "        elif lab[x][y] & S == 0:\n",
    "            lab[y][x] |= S\n",
    "            new_x = x + GO_DIR[S][0]\n",
    "            new_y = y + GO_DIR[S][1]\n",
    "            lab[new_y][new_x] |= REVERSE[S]\n",
    "        elif lab[x][y] & E == 0:\n",
    "            lab[y][x] |= E\n",
    "            new_x = x + GO_DIR[E][0]\n",
    "            new_y = y + GO_DIR[E][1]\n",
    "            lab[new_y][new_x] |= REVERSE[E]\n",
    "        elif lab[x][y] & W == 0:\n",
    "            lab[y][x] |= W\n",
    "            new_x = x + GO_DIR[W][0]\n",
    "            new_y = y + GO_DIR[W][1]\n",
    "            lab[new_y][new_x] |= REVERSE[W]\n",
    "        "
   ]
  },
  {
   "cell_type": "code",
   "execution_count": 6,
   "metadata": {},
   "outputs": [],
   "source": [
    "def check():\n",
    "    # displays the cells' values for check-up\n",
    "    for i in range(SIZE[1]):\n",
    "        for j in range(SIZE[0]):\n",
    "            print(\" \"*(1-(lab[i][j]//10)) + str(lab[i][j]), end='|')\n",
    "        print ('')"
   ]
  },
  {
   "cell_type": "code",
   "execution_count": 7,
   "metadata": {},
   "outputs": [],
   "source": [
    "def draw():\n",
    "    # prints the seed (for reference) and the lab size\n",
    "    print(\"_\" * (SIZE[0] * 2))\n",
    "    for j in range(SIZE[1]):\n",
    "        x = random.randint(0,9)\n",
    "        if j!=0:\n",
    "            print(\"|\", end='')\n",
    "        else:\n",
    "            print (\"_\", end='')\n",
    "        for i in range(SIZE[0]):\n",
    "            if (lab[j][i] & S != 0):\n",
    "                print(\" \", end='')\n",
    "            else:\n",
    "                print(\"_\", end='')\n",
    "            if (lab[j][i] & E != 0):\n",
    "                if ((lab[j][i] | lab[j][i+1]) & S != 0):\n",
    "                    print(\" \", end='')\n",
    "                else:\n",
    "                    print(\"_\", end='')\n",
    "            elif (j==SIZE[1]-1) & (i==SIZE[0]-1):\n",
    "                print(\"_\", end='')\n",
    "            else:\n",
    "                print(\"|\", end='')\n",
    "        print(\"\")"
   ]
  },
  {
   "cell_type": "code",
   "execution_count": 8,
   "metadata": {},
   "outputs": [
    {
     "name": "stdout",
     "output_type": "stream",
     "text": [
      "______________________________\n",
      "__   _____|   |_     _  |  ___|\n",
      "|  _|  _  | |_  |_| | | |___  |\n",
      "|   | | |___| |_  | | |  _  | |\n",
      "| | |_  |_     _| | |___  |_  |\n",
      "|_|_  | |  _| |  _|___  | |  _|\n",
      "|  ___|___|  _| |_   ___|_  | |\n",
      "|   |  _____| |_  |   |   |_  |\n",
      "| |___|_    | |___|_|___| |_  |\n",
      "| | |    _|___________  |_  | |\n",
      "| |___| |  _|    _____| |  _| |\n",
      "|_______|  ___| |  _  | | |  _|\n",
      "|   |  ___|   | | | |___| |_  |\n",
      "| |_| |_  | | | |___  |  _| | |\n",
      "|   |___  | |___|  ___| | |  _|\n",
      "|_|_______|_____________|______\n",
      " 4|14|12|12| 8| 6|10| 4|14|14|12|10| 6|12| 8|\n",
      " 6| 9| 6|12|10| 3| 5|10| 1| 3| 2| 3| 5|12|10|\n",
      " 7|10| 3| 2| 5| 9| 2| 5|10| 3| 3| 7|12|10| 3|\n",
      " 3| 3| 5|11| 4|14|15| 8| 3| 3| 5|13|10| 5|11|\n",
      " 1| 5|10| 3| 6| 9| 3| 6| 9| 5|12|10| 3| 6| 9|\n",
      " 6|12| 9| 5| 9| 6| 9| 3| 4|14|12| 9| 5|11| 2|\n",
      " 7|10| 6|12|12| 9| 2| 5|10| 7|10| 6|10| 5|11|\n",
      " 3| 5| 9| 4|14|10| 3| 4| 9| 1| 5| 9| 3| 4|11|\n",
      " 3| 2| 6|14| 9| 5|13|12|12|12|12|10| 5|10| 3|\n",
      " 3| 5| 9| 3| 6| 8| 6|14|12|12| 8| 3| 6| 9| 3|\n",
      " 5|12|12| 9| 7|12| 9| 3| 6|12|10| 3| 3| 6| 9|\n",
      " 6|10| 6|12| 9| 6|10| 3| 3| 2| 5| 9| 3| 5|10|\n",
      " 3| 1| 3| 4|10| 3| 3| 3| 5|13|10| 6| 9| 2| 3|\n",
      " 7|10| 5|12|11| 3| 5| 9| 6|12| 9| 3| 2| 7| 9|\n",
      " 1| 5|12|12| 9| 5|12|12|13|12|12| 9| 5|13| 8|\n"
     ]
    }
   ],
   "source": [
    "# Let's start!\n",
    "dig(SIZE[0]//2, SIZE[1]//2)\n",
    "create_more_way()\n",
    "draw()\n",
    "check()"
   ]
  },
  {
   "cell_type": "code",
   "execution_count": 9,
   "metadata": {},
   "outputs": [
    {
     "name": "stdout",
     "output_type": "stream",
     "text": [
      " 1|-5|-4| 2|-7|-6| 7|-3|-7|-2| 9| 1| 9|-4| 2|\n",
      "-3|-1|-4| 8|-6| 5| 0|-9|-7| 0|-4| 2| 1| 8| 7|\n",
      "-3| 2|-4|-7| 2| 0|-5| 0| 2| 8|-9|-9|-1| 2|-4|\n",
      "-9| 9| 4| 8|-6| 7| 6| 6| 8| 8| 5| 1|-5| 1| 5|\n",
      " 8| 8| 8| 8| 6|-5| 5| 0| 6| 8|-9| 2|-7|-3|-8|\n",
      " 5| 6| 5|-3| 7|-2|-2| 3| 1| 9|-2|-7| 4| 5|-9|\n",
      " 5| 5| 8| 4| 8| 8|-6|-9|-3| 2|-4| 1|-4| 6| 1|\n",
      "-7| 7| 3| 7| 8| 7| 1| 7| 3|-9|-3|-5| 6|-2|-1|\n",
      " 8|-2|-9|-6| 5| 3|-9| 5|-2| 3|-5| 6| 9|-8| 8|\n",
      " 8| 0|-8| 0| 2|-9|-3| 4| 4| 1| 8| 7| 5| 9|-4|\n",
      " 8| 2| 8|-1| 8| 4| 7| 1|-4|-8| 0|-3| 9|-8|-9|\n",
      "-9|-4| 2| 5|-6|-1| 2| 5|-3|-3|-8| 7|-8| 1| 4|\n",
      " 0| 5| 4| 1|-1| 6| 9|-1|-5| 4| 6| 9| 7| 4| 3|\n",
      "-5| 2| 5|-1| 3| 8| 9|-2|-5| 8|-2| 4| 4| 0|-7|\n",
      "-6|-2|-9|-6| 0|-9| 5| 2|-1| 6|-7| 7| 9| 1| 4|\n"
     ]
    }
   ],
   "source": [
    "arr_scores = list(list(0 for i in range(SIZE[0])) for j in range(SIZE[1]))\n",
    "def generate_random_scores():\n",
    "    for i in range(SIZE[0]):\n",
    "        for j in range(SIZE[1]):\n",
    "            arr_scores[i][j] = random.randint(-9, 9)\n",
    "    \n",
    "    #print score of square\n",
    "    for i in range(SIZE[1]):\n",
    "        for j in range(SIZE[0]):\n",
    "            if arr_scores[i][j] > -1:\n",
    "                print(\" \" + str(arr_scores[i][j]), end='|')\n",
    "            else:\n",
    "                print(str(arr_scores[i][j]), end='|')\n",
    "        print ('')\n",
    "generate_random_scores()"
   ]
  },
  {
   "cell_type": "code",
   "execution_count": 14,
   "metadata": {},
   "outputs": [
    {
     "name": "stdout",
     "output_type": "stream",
     "text": [
      "(13, 14)\n"
     ]
    }
   ],
   "source": [
    "total_score=0;\n",
    "max_score = arr_scores[0][0]\n",
    "trace = []\n",
    "total_trace = []\n",
    "# Function to print a BFS of graph \n",
    "def BFS(x,y): \n",
    "    \n",
    "    global trace\n",
    "    # Mark all the vertices as not visited \n",
    "    trace = [0 for i in range(SIZE[0]*SIZE[1])]\n",
    "    \n",
    "    # Create a queue for BFS \n",
    "    queue = [] \n",
    "\n",
    "    # Mark the source node as  \n",
    "    # visited and enqueue it \n",
    "    queue.append((x,y)) \n",
    "    trace[0]=-1\n",
    "\n",
    "    while queue: \n",
    "        # Dequeue a vertex from  \n",
    "        # queue and print it \n",
    "        x,y = queue.pop(0) \n",
    "        \n",
    "        if x == SIZE[0]-1 and y == SIZE[1]-1:\n",
    "            way = []\n",
    "            x_ = trace[-1] % SIZE[1]\n",
    "            y_ = trace[-1] // SIZE[1]\n",
    "            print((x_,y_))\n",
    "            while x_ != -1 or y_ != -1:\n",
    "                way.append((x_,y_))\n",
    "                index = y_ * SIZE[0] + x_\n",
    "                x_ = trace[index] % SIZE[1]\n",
    "                y_ = trace[index] // SIZE[1]\n",
    "            total_trace.apppend(way)\n",
    "        \n",
    "        dirs = [E, S, W, N]\n",
    "        \n",
    "        for dir in dirs:\n",
    "            \n",
    "            if lab[y][x] & dir != 0:\n",
    "                \n",
    "                new_x = x + GO_DIR[dir][0]\n",
    "                new_y = y + GO_DIR[dir][1]\n",
    "                \n",
    "                if (new_y in range(SIZE[1])) and (new_x in range(SIZE[0])) and (trace[new_y*SIZE[0]+new_x] == 0):\n",
    "                    \n",
    "                    trace[new_y*SIZE[0]+new_x] = y*SIZE[0] + x\n",
    "                    queue.append((new_x, new_y))\n",
    "BFS(0,0)"
   ]
  },
  {
   "cell_type": "code",
   "execution_count": 13,
   "metadata": {},
   "outputs": [
    {
     "name": "stdout",
     "output_type": "stream",
     "text": [
      "______________________________\n",
      "__ ******_|***|_ *******|****_|\n",
      "|***|*****|*|***|_|*| |*|*****|\n",
      "|***|*| |***| |***|*|*|*****|*|\n",
      "|*|*|***|_ ****_|*|*|*****|***|\n",
      "|_|***|*|***|*|***|*****|*|  *|\n",
      "|*****|***|***|*|_ *****|***| |\n",
      "|***|*******| |***|***|***|***|\n",
      "|*|***|_ ***|*|__*|_|***|*|_ *|\n",
      "|*| |*****|*************|***|*|\n",
      "|*|***|*|**_|********_|*|***|*|\n",
      "|*******|*****|*|*****|*|*|***|\n",
      "|***|*****|***|*|*| |***|*|***|\n",
      "|*|_|*|_ *|*|*|*|*****|***| |*|\n",
      "|***|*****|*|***|*****|*| |***|\n",
      "|_|*******|*************|****_ \n"
     ]
    }
   ],
   "source": [
    "print(\"_\" * (SIZE[0] * 2))\n",
    "for j in range(SIZE[1]):\n",
    "    x = random.randint(0,9)\n",
    "    if j!=0:\n",
    "        print(\"|\", end='')\n",
    "    else:\n",
    "        print (\"_\", end='')\n",
    "    for i in range(SIZE[0]):\n",
    "        if (lab[j][i] & S != 0):\n",
    "            if (j*SIZE[0]+i) in trace:\n",
    "                print(\"*\", end='')\n",
    "            else:\n",
    "                print(\" \", end='')\n",
    "        else:\n",
    "            if (j*SIZE[0]+i) in trace:\n",
    "                print(\"*\", end='')\n",
    "            else:\n",
    "                print(\"_\", end='')\n",
    "        if (lab[j][i] & E != 0):\n",
    "            if ((lab[j][i] | lab[j][i+1]) & S != 0):\n",
    "                if (j*SIZE[0]+i) in trace:\n",
    "                    print(\"*\", end='')\n",
    "                else:\n",
    "                    print(\" \", end='')\n",
    "            else:\n",
    "                if (j*SIZE[0]+i) in trace:\n",
    "                    print(\"*\", end='')\n",
    "                else:\n",
    "                    print(\"_\", end='')\n",
    "        elif (j==SIZE[1]-1) & (i==SIZE[0]-1):\n",
    "            print(\" \", end='')\n",
    "        else:\n",
    "            print(\"|\", end='')\n",
    "    print(\"\")"
   ]
  },
  {
   "cell_type": "code",
   "execution_count": 12,
   "metadata": {},
   "outputs": [
    {
     "data": {
      "text/plain": [
       "[[5, -4, -9, -3, 3, 3, -9, -7, -7, 3, -2, -4, -4, -7, -2],\n",
       " [-2, -1, -7, 4, -1, 9, 9, -6, -7, 1, 9, -4, 1, 4, -6],\n",
       " [-6, -4, -5, 4, 1, -2, 3, 9, -1, -9, 7, 0, -6, -2, 5],\n",
       " [-5, -8, 2, -6, 5, 8, 9, -6, -7, 1, 3, 3, -4, 5, 6],\n",
       " [-5, 7, -8, -4, -9, -9, -6, 8, -7, -2, 9, -9, 0, 5, 3],\n",
       " [-5, 1, -5, 7, 0, -3, 8, -7, 7, -2, 8, 1, -9, -8, -5],\n",
       " [-1, -3, 5, -8, -1, 7, -6, 4, 1, 5, 6, -2, -5, -5, -1],\n",
       " [3, 6, -6, -5, 3, 5, -9, -4, 8, 1, -2, 9, 7, -9, 4],\n",
       " [9, -4, -2, 2, 8, -7, -9, 9, -7, -4, -6, 8, 4, 7, 4],\n",
       " [3, -8, 4, -9, 6, -9, 8, -3, -3, 2, 3, 5, 6, -2, -3],\n",
       " [-1, 6, 2, 3, 2, 7, 1, 8, 5, -3, -4, 6, -9, 3, 3],\n",
       " [9, 5, 7, 3, -8, -8, 1, 4, 0, 9, 4, -7, -4, -9, 2],\n",
       " [-7, -6, 3, -3, 6, -4, 8, 9, 0, -3, 8, 8, -4, -6, -2],\n",
       " [5, 9, 0, -1, -8, 6, -4, 6, -2, -9, -3, 4, 1, 2, 1],\n",
       " [-1, 6, 4, 2, 0, -1, 5, -5, 5, -9, 0, 7, -8, 4, -8]]"
      ]
     },
     "execution_count": 12,
     "metadata": {},
     "output_type": "execute_result"
    }
   ],
   "source": [
    "arr_scores\n",
    "\n"
   ]
  },
  {
   "cell_type": "code",
   "execution_count": null,
   "metadata": {},
   "outputs": [],
   "source": []
  }
 ],
 "metadata": {
  "kernelspec": {
   "display_name": "Python 3",
   "language": "python",
   "name": "python3"
  },
  "language_info": {
   "codemirror_mode": {
    "name": "ipython",
    "version": 3
   },
   "file_extension": ".py",
   "mimetype": "text/x-python",
   "name": "python",
   "nbconvert_exporter": "python",
   "pygments_lexer": "ipython3",
   "version": "3.5.2"
  }
 },
 "nbformat": 4,
 "nbformat_minor": 2
}
