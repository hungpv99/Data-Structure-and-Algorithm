{
 "cells": [
  {
   "cell_type": "code",
   "execution_count": 1,
   "metadata": {},
   "outputs": [],
   "source": [
    "class Node:\n",
    "    def __init__(self, key):\n",
    "        self.key = key\n",
    "        self.left = self.right = None\n",
    "\n",
    "    def equals(self, node):\n",
    "        return self.key == node.key"
   ]
  },
  {
   "cell_type": "code",
   "execution_count": 6,
   "metadata": {},
   "outputs": [],
   "source": [
    "class SplayTree:\n",
    "    def __init__(self):\n",
    "        self.root = None\n",
    "        self.header = Node(None)\n",
    "\n",
    "    def insert(self, key):\n",
    "        key = str(key)\n",
    "        if (self.root == None):\n",
    "            self.root = Node(key)\n",
    "            return\n",
    "\n",
    "        self.splay(key)\n",
    "        if self.root.key == key:\n",
    "            return\n",
    "\n",
    "        n = Node(key)\n",
    "        if key < self.root.key:\n",
    "            n.left = self.root.left\n",
    "            n.right = self.root\n",
    "            self.root.left = None\n",
    "        else:\n",
    "            n.right = self.root.right\n",
    "            n.left = self.root\n",
    "            self.root.right = None\n",
    "        self.root = n\n",
    "        \n",
    "    def find(self, key):\n",
    "        if self.root == None:\n",
    "            return None\n",
    "        self.splay(key)\n",
    "        if self.root.key != key:\n",
    "            return None\n",
    "        return self.root.key\n",
    "\n",
    "    def isEmpty(self):\n",
    "        return self.root == None\n",
    "    \n",
    "    def splay(self, key):\n",
    "        key = str(key)\n",
    "        l = r = self.header\n",
    "        t = self.root\n",
    "        self.header.left = self.header.right = None\n",
    "        while True:\n",
    "            if key < t.key:\n",
    "                if t.left == None:\n",
    "                    break\n",
    "                if key < t.left.key:\n",
    "                    y = t.left\n",
    "                    t.left = y.right\n",
    "                    y.right = t\n",
    "                    t = y\n",
    "                    if t.left == None:\n",
    "                        break\n",
    "                r.left = t\n",
    "                r = t\n",
    "                t = t.left\n",
    "            elif key > t.key:\n",
    "                if t.right == None:\n",
    "                    break\n",
    "                if key > t.right.key:\n",
    "                    y = t.right\n",
    "                    t.right = y.left\n",
    "                    y.left = t\n",
    "                    t = y\n",
    "                    if t.right == None:\n",
    "                        break\n",
    "                l.right = t\n",
    "                l = t\n",
    "                t = t.right\n",
    "            else:\n",
    "                break\n",
    "        l.right = t.left\n",
    "        r.left = t.right\n",
    "        t.left = self.header.right\n",
    "        t.right = self.header.left\n",
    "        self.root = t\n",
    "    \n",
    "    def printTree(self, root):\n",
    "        q = []\n",
    "        q.append(root)\n",
    "        count = 0\n",
    "        while len(q) > 0 and count < 5:\n",
    "            node = q.pop(0)\n",
    "            \n",
    "            print(node.key)\n",
    "            count += 1\n",
    "            \n",
    "            if node.left != None:\n",
    "                q.append(node.left)\n",
    "            if node.right != None:\n",
    "                q.append(node.right)\n",
    "            "
   ]
  },
  {
   "cell_type": "code",
   "execution_count": 7,
   "metadata": {},
   "outputs": [
    {
     "name": "stdout",
     "output_type": "stream",
     "text": [
      "segmentation\n",
      "of\n",
      "semantic\n",
      "for\n",
      "the\n"
     ]
    }
   ],
   "source": [
    "tree = SplayTree()\n",
    "f = open('test.txt')\n",
    "words = f.read().split(' ')\n",
    "for word in words:\n",
    "    tree.insert(word)\n",
    "    \n",
    "tree.printTree(tree.root)"
   ]
  },
  {
   "cell_type": "code",
   "execution_count": 8,
   "metadata": {},
   "outputs": [],
   "source": [
    "tree.insert(3)\n",
    "tree.insert(4)\n",
    "tree.insert(3)\n",
    "tree.insert(5)\n",
    "tree.insert(4)\n",
    "tree.insert(3)\n",
    "tree.insert(4)"
   ]
  },
  {
   "cell_type": "code",
   "execution_count": 9,
   "metadata": {},
   "outputs": [],
   "source": [
    "tree.splay(3)"
   ]
  },
  {
   "cell_type": "code",
   "execution_count": 11,
   "metadata": {},
   "outputs": [
    {
     "name": "stdout",
     "output_type": "stream",
     "text": [
      "3\n",
      "4\n",
      "5\n",
      "This\n",
      "of\n"
     ]
    }
   ],
   "source": [
    "tree.printTree(tree.root)"
   ]
  },
  {
   "cell_type": "code",
   "execution_count": 12,
   "metadata": {},
   "outputs": [],
   "source": [
    "tree.insert(1)\n",
    "tree.insert(2)"
   ]
  },
  {
   "cell_type": "code",
   "execution_count": 13,
   "metadata": {},
   "outputs": [
    {
     "name": "stdout",
     "output_type": "stream",
     "text": [
      "2\n",
      "1\n",
      "3\n",
      "4\n",
      "5\n"
     ]
    }
   ],
   "source": [
    "tree.printTree(tree.root)"
   ]
  },
  {
   "cell_type": "code",
   "execution_count": 23,
   "metadata": {},
   "outputs": [],
   "source": [
    "tree.splay(5)"
   ]
  },
  {
   "cell_type": "code",
   "execution_count": 16,
   "metadata": {},
   "outputs": [
    {
     "name": "stdout",
     "output_type": "stream",
     "text": [
      "5\n",
      "3\n",
      "This\n",
      "2\n",
      "4\n"
     ]
    }
   ],
   "source": [
    "tree.printTree(tree.root)"
   ]
  },
  {
   "cell_type": "code",
   "execution_count": 17,
   "metadata": {},
   "outputs": [],
   "source": [
    "tree.insert(3)\n",
    "tree.insert(4)\n",
    "tree.insert(3)\n",
    "tree.insert(5)\n",
    "tree.insert(4)\n",
    "tree.insert(3)\n",
    "tree.insert(4)\n"
   ]
  },
  {
   "cell_type": "code",
   "execution_count": 20,
   "metadata": {},
   "outputs": [
    {
     "name": "stdout",
     "output_type": "stream",
     "text": [
      "2\n",
      "1\n",
      "3\n",
      "4\n",
      "5\n"
     ]
    }
   ],
   "source": [
    "tree.printTree(tree.root)\n"
   ]
  },
  {
   "cell_type": "code",
   "execution_count": 19,
   "metadata": {},
   "outputs": [],
   "source": [
    "tree.insert(1)\n",
    "tree.insert(2)"
   ]
  },
  {
   "cell_type": "code",
   "execution_count": 21,
   "metadata": {},
   "outputs": [
    {
     "name": "stdout",
     "output_type": "stream",
     "text": [
      "2\n",
      "1\n",
      "3\n",
      "4\n",
      "5\n"
     ]
    }
   ],
   "source": [
    "tree.printTree(tree.root)"
   ]
  },
  {
   "cell_type": "code",
   "execution_count": 26,
   "metadata": {},
   "outputs": [],
   "source": [
    "tree.splay(5)\n",
    "tree.splay(5)"
   ]
  },
  {
   "cell_type": "code",
   "execution_count": 27,
   "metadata": {},
   "outputs": [
    {
     "name": "stdout",
     "output_type": "stream",
     "text": [
      "5\n",
      "3\n",
      "This\n",
      "2\n",
      "4\n"
     ]
    }
   ],
   "source": [
    "tree.printTree(tree.root)"
   ]
  },
  {
   "cell_type": "code",
   "execution_count": 28,
   "metadata": {},
   "outputs": [],
   "source": [
    "tree.splay(3)"
   ]
  },
  {
   "cell_type": "code",
   "execution_count": 29,
   "metadata": {},
   "outputs": [
    {
     "name": "stdout",
     "output_type": "stream",
     "text": [
      "3\n",
      "2\n",
      "5\n",
      "1\n",
      "4\n"
     ]
    }
   ],
   "source": [
    "tree.printTree(tree.root)"
   ]
  },
  {
   "cell_type": "code",
   "execution_count": 30,
   "metadata": {},
   "outputs": [],
   "source": [
    "tree.insert(14)\n",
    "tree.insert(13)\n",
    "tree.insert(24)\n"
   ]
  },
  {
   "cell_type": "code",
   "execution_count": 31,
   "metadata": {},
   "outputs": [
    {
     "name": "stdout",
     "output_type": "stream",
     "text": [
      "24\n",
      "14\n",
      "3\n",
      "13\n",
      "2\n"
     ]
    }
   ],
   "source": [
    "tree.printTree(tree.root)"
   ]
  },
  {
   "cell_type": "code",
   "execution_count": 32,
   "metadata": {},
   "outputs": [],
   "source": [
    "tree.splay(5)"
   ]
  },
  {
   "cell_type": "code",
   "execution_count": 33,
   "metadata": {},
   "outputs": [
    {
     "name": "stdout",
     "output_type": "stream",
     "text": [
      "5\n",
      "3\n",
      "This\n",
      "24\n",
      "4\n"
     ]
    }
   ],
   "source": [
    "tree.printTree(tree.root)"
   ]
  },
  {
   "cell_type": "code",
   "execution_count": null,
   "metadata": {},
   "outputs": [],
   "source": []
  }
 ],
 "metadata": {
  "kernelspec": {
   "display_name": "Python 3",
   "language": "python",
   "name": "python3"
  },
  "language_info": {
   "codemirror_mode": {
    "name": "ipython",
    "version": 3
   },
   "file_extension": ".py",
   "mimetype": "text/x-python",
   "name": "python",
   "nbconvert_exporter": "python",
   "pygments_lexer": "ipython3",
   "version": "3.5.2"
  }
 },
 "nbformat": 4,
 "nbformat_minor": 2
}
