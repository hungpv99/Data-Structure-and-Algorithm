{
 "cells": [
  {
   "cell_type": "code",
   "execution_count": 9,
   "metadata": {},
   "outputs": [],
   "source": [
    "class Node:\n",
    "    def __init__(self, key):\n",
    "        self.key = key\n",
    "        self.left = self.right = None\n",
    "\n",
    "    def equals(self, node):\n",
    "        return self.key == node.key"
   ]
  },
  {
   "cell_type": "code",
   "execution_count": 24,
   "metadata": {},
   "outputs": [],
   "source": [
    "class SplayTree:\n",
    "    def __init__(self):\n",
    "        self.root = None\n",
    "        self.header = Node(None) #For splay()\n",
    "\n",
    "    def insert(self, key):\n",
    "        key = str(key)\n",
    "        if (self.root == None):\n",
    "            self.root = Node(key)\n",
    "            return\n",
    "\n",
    "        self.splay(key)\n",
    "        if self.root.key == key:\n",
    "            return\n",
    "\n",
    "        n = Node(key)\n",
    "        if key < self.root.key:\n",
    "            n.left = self.root.left\n",
    "            n.right = self.root\n",
    "            self.root.left = None\n",
    "        else:\n",
    "            n.right = self.root.right\n",
    "            n.left = self.root\n",
    "            self.root.right = None\n",
    "        self.root = n\n",
    "        \n",
    "    def find(self, key):\n",
    "        if self.root == None:\n",
    "            return None\n",
    "        self.splay(key)\n",
    "        if self.root.key != key:\n",
    "            return None\n",
    "        return self.root.key\n",
    "\n",
    "    def isEmpty(self):\n",
    "        return self.root == None\n",
    "    \n",
    "    def splay(self, key):\n",
    "        l = r = self.header\n",
    "        t = self.root\n",
    "        self.header.left = self.header.right = None\n",
    "        while True:\n",
    "            if key < t.key:\n",
    "                if t.left == None:\n",
    "                    break\n",
    "                if key < t.left.key:\n",
    "                    y = t.left\n",
    "                    t.left = y.right\n",
    "                    y.right = t\n",
    "                    t = y\n",
    "                    if t.left == None:\n",
    "                        break\n",
    "                r.left = t\n",
    "                r = t\n",
    "                t = t.left\n",
    "            elif key > t.key:\n",
    "                if t.right == None:\n",
    "                    break\n",
    "                if key > t.right.key:\n",
    "                    y = t.right\n",
    "                    t.right = y.left\n",
    "                    y.left = t\n",
    "                    t = y\n",
    "                    if t.right == None:\n",
    "                        break\n",
    "                l.right = t\n",
    "                l = t\n",
    "                t = t.right\n",
    "            else:\n",
    "                break\n",
    "        l.right = t.left\n",
    "        r.left = t.right\n",
    "        t.left = self.header.right\n",
    "        t.right = self.header.left\n",
    "        self.root = t\n",
    "    \n",
    "    def printTree(self, root):\n",
    "        q = []\n",
    "        q.append(root)\n",
    "        count = 0\n",
    "        while len(q) > 0 and count < 5:\n",
    "            node = q.pop(0)\n",
    "            \n",
    "            print(node.key)\n",
    "            count += 1\n",
    "            \n",
    "            if node.left != None:\n",
    "                q.append(node.left)\n",
    "            if node.right != None:\n",
    "                q.append(node.right)\n",
    "            "
   ]
  },
  {
   "cell_type": "code",
   "execution_count": 25,
   "metadata": {},
   "outputs": [
    {
     "name": "stdout",
     "output_type": "stream",
     "text": [
      "segmentation\n",
      "of\n",
      "semantic\n",
      "for\n",
      "the\n"
     ]
    }
   ],
   "source": [
    "tree = SplayTree()\n",
    "f = open('test.txt')\n",
    "words = f.read().split(' ')\n",
    "for word in words:\n",
    "    tree.insert(word)\n",
    "    \n",
    "tree.printTree(tree.root)"
   ]
  },
  {
   "cell_type": "code",
   "execution_count": 26,
   "metadata": {},
   "outputs": [
    {
     "ename": "TypeError",
     "evalue": "unorderable types: int() < str()",
     "output_type": "error",
     "traceback": [
      "\u001b[0;31m---------------------------------------------------------------------------\u001b[0m",
      "\u001b[0;31mTypeError\u001b[0m                                 Traceback (most recent call last)",
      "\u001b[0;32m<ipython-input-26-a655b9c41c5f>\u001b[0m in \u001b[0;36m<module>\u001b[0;34m\u001b[0m\n\u001b[0;32m----> 1\u001b[0;31m \u001b[0mtree\u001b[0m\u001b[0;34m.\u001b[0m\u001b[0minsert\u001b[0m\u001b[0;34m(\u001b[0m\u001b[0;36m3\u001b[0m\u001b[0;34m)\u001b[0m\u001b[0;34m\u001b[0m\u001b[0m\n\u001b[0m",
      "\u001b[0;32m<ipython-input-24-b04c4a5425ba>\u001b[0m in \u001b[0;36minsert\u001b[0;34m(self, key)\u001b[0m\n\u001b[1;32m      9\u001b[0m             \u001b[0;32mreturn\u001b[0m\u001b[0;34m\u001b[0m\u001b[0m\n\u001b[1;32m     10\u001b[0m \u001b[0;34m\u001b[0m\u001b[0m\n\u001b[0;32m---> 11\u001b[0;31m         \u001b[0mself\u001b[0m\u001b[0;34m.\u001b[0m\u001b[0msplay\u001b[0m\u001b[0;34m(\u001b[0m\u001b[0mkey\u001b[0m\u001b[0;34m)\u001b[0m\u001b[0;34m\u001b[0m\u001b[0m\n\u001b[0m\u001b[1;32m     12\u001b[0m         \u001b[0;32mif\u001b[0m \u001b[0mself\u001b[0m\u001b[0;34m.\u001b[0m\u001b[0mroot\u001b[0m\u001b[0;34m.\u001b[0m\u001b[0mkey\u001b[0m \u001b[0;34m==\u001b[0m \u001b[0mkey\u001b[0m\u001b[0;34m:\u001b[0m\u001b[0;34m\u001b[0m\u001b[0m\n\u001b[1;32m     13\u001b[0m             \u001b[0;32mreturn\u001b[0m\u001b[0;34m\u001b[0m\u001b[0m\n",
      "\u001b[0;32m<ipython-input-24-b04c4a5425ba>\u001b[0m in \u001b[0;36msplay\u001b[0;34m(self, key)\u001b[0m\n\u001b[1;32m     40\u001b[0m         \u001b[0mself\u001b[0m\u001b[0;34m.\u001b[0m\u001b[0mheader\u001b[0m\u001b[0;34m.\u001b[0m\u001b[0mleft\u001b[0m \u001b[0;34m=\u001b[0m \u001b[0mself\u001b[0m\u001b[0;34m.\u001b[0m\u001b[0mheader\u001b[0m\u001b[0;34m.\u001b[0m\u001b[0mright\u001b[0m \u001b[0;34m=\u001b[0m \u001b[0;32mNone\u001b[0m\u001b[0;34m\u001b[0m\u001b[0m\n\u001b[1;32m     41\u001b[0m         \u001b[0;32mwhile\u001b[0m \u001b[0;32mTrue\u001b[0m\u001b[0;34m:\u001b[0m\u001b[0;34m\u001b[0m\u001b[0m\n\u001b[0;32m---> 42\u001b[0;31m             \u001b[0;32mif\u001b[0m \u001b[0mkey\u001b[0m \u001b[0;34m<\u001b[0m \u001b[0mt\u001b[0m\u001b[0;34m.\u001b[0m\u001b[0mkey\u001b[0m\u001b[0;34m:\u001b[0m\u001b[0;34m\u001b[0m\u001b[0m\n\u001b[0m\u001b[1;32m     43\u001b[0m                 \u001b[0;32mif\u001b[0m \u001b[0mt\u001b[0m\u001b[0;34m.\u001b[0m\u001b[0mleft\u001b[0m \u001b[0;34m==\u001b[0m \u001b[0;32mNone\u001b[0m\u001b[0;34m:\u001b[0m\u001b[0;34m\u001b[0m\u001b[0m\n\u001b[1;32m     44\u001b[0m                     \u001b[0;32mbreak\u001b[0m\u001b[0;34m\u001b[0m\u001b[0m\n",
      "\u001b[0;31mTypeError\u001b[0m: unorderable types: int() < str()"
     ]
    }
   ],
   "source": [
    "tree.insert(3)"
   ]
  },
  {
   "cell_type": "code",
   "execution_count": null,
   "metadata": {},
   "outputs": [],
   "source": []
  }
 ],
 "metadata": {
  "kernelspec": {
   "display_name": "Python 3",
   "language": "python",
   "name": "python3"
  },
  "language_info": {
   "codemirror_mode": {
    "name": "ipython",
    "version": 3
   },
   "file_extension": ".py",
   "mimetype": "text/x-python",
   "name": "python",
   "nbconvert_exporter": "python",
   "pygments_lexer": "ipython3",
   "version": "3.5.2"
  }
 },
 "nbformat": 4,
 "nbformat_minor": 2
}
